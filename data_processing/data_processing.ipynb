{
 "cells": [
  {
   "cell_type": "code",
   "execution_count": 1,
   "id": "4608ec33",
   "metadata": {},
   "outputs": [],
   "source": [
    "from sklearn.model_selection import train_test_split\n",
    "from sklearn.preprocessing import OneHotEncoder\n",
    "from scipy import stats\n",
    "import numpy as np\n",
    "import pandas as pd\n",
    "import os"
   ]
  },
  {
   "cell_type": "code",
   "execution_count": 2,
   "id": "3b3ae151",
   "metadata": {},
   "outputs": [
    {
     "name": "stdout",
     "output_type": "stream",
     "text": [
      "1014 1014\n"
     ]
    }
   ],
   "source": [
    "def getFiles(file_list, which):\n",
    "    datapath = \"./../2022\"\n",
    "    for root, dirs, files in os.walk(datapath):\n",
    "        for file in files:\n",
    "            if ('csv' in file and not (\"Movement\" in file) and (file[0] == which)):\n",
    "                file_list.append(os.path.join(root, file))\n",
    "                \n",
    "Thingy_list = []\n",
    "Respect_list = []\n",
    "\n",
    "getFiles(Thingy_list, 'T')\n",
    "getFiles(Respect_list, 'R')\n",
    "\n",
    "print(len(Thingy_list), len(Respect_list))"
   ]
  },
  {
   "cell_type": "code",
   "execution_count": 3,
   "id": "d0a4fe1d",
   "metadata": {},
   "outputs": [],
   "source": [
    "def all_csv_to_dataframe(dataframe, thingy_list, respect_list):\n",
    "    for i in range(len(thingy_list)):\n",
    "        thingy_file = thingy_list[i]\n",
    "        respect_file = respect_list[i]\n",
    "        if thingy_file[25:43] == respect_file[26:44]:\n",
    "            \n",
    "            new_thingy = pd.read_csv(thingy_file)\n",
    "            new_thingy = new_thingy.rename(columns=\n",
    "                             {'accel_x'      :'T_accel_x',\n",
    "                              'accel_y'      :'T_accel_y',\n",
    "                              'accel_z'      :'T_accel_z',\n",
    "                              'gyro_x'       :'T_gyro_x' ,\n",
    "                              'gyro_y'       :'T_gyro_y' ,\n",
    "                              'gyro_z'       :'T_gyro_z' ,\n",
    "                              'activity_code':'T_activity_code'})\n",
    "            new_respect = pd.read_csv(respect_file)\n",
    "            new_respect = new_respect.rename(columns=\n",
    "                             {'accel_x'      :'R_accel_x',\n",
    "                              'accel_y'      :'R_accel_y',\n",
    "                              'accel_z'      :'R_accel_z',\n",
    "                              'gyro_x'       :'R_gyro_x' ,\n",
    "                              'gyro_y'       :'R_gyro_y' ,\n",
    "                              'gyro_z'       :'R_gyro_z' ,\n",
    "                              'activity_code':'R_activity_code'})\n",
    "            \n",
    "            new_dataframe = pd.concat([new_thingy, new_respect], axis=1)\n",
    "            dataframe = pd.concat([dataframe, new_dataframe])\n",
    "            \n",
    "    return dataframe\n",
    "\n",
    "dataframe = pd.DataFrame()\n",
    "dataframe = all_csv_to_dataframe(dataframe, Thingy_list, Respect_list)"
   ]
  },
  {
   "cell_type": "code",
   "execution_count": 4,
   "id": "5b991c48",
   "metadata": {},
   "outputs": [
    {
     "name": "stdout",
     "output_type": "stream",
     "text": [
      "6873 664\n",
      "0 0\n",
      "[ 12.  13.  31.   7.   2.   8.   6.  11.   5.   4.   0. 100.   1.]\n",
      "[ 12.  13.  31.   7.   2.   8.   6.  11.   5.   4.   0. 100.   1.]\n"
     ]
    }
   ],
   "source": [
    "# Somehow there are 6873 and 664 null activity code/type in thingy and respect\n",
    "print(dataframe['T_activity_code'].isnull().sum(), dataframe['R_activity_code'].isnull().sum())\n",
    "dataframe = dataframe.dropna()\n",
    "print(dataframe['T_activity_code'].isnull().sum(), dataframe['R_activity_code'].isnull().sum())\n",
    "\n",
    "print(pd.unique(dataframe['T_activity_code']))\n",
    "print(pd.unique(dataframe['R_activity_code']))"
   ]
  },
  {
   "cell_type": "code",
   "execution_count": 5,
   "id": "a9cb3f94",
   "metadata": {},
   "outputs": [
    {
     "data": {
      "text/plain": [
       "(array([], dtype=int64),)"
      ]
     },
     "execution_count": 5,
     "metadata": {},
     "output_type": "execute_result"
    }
   ],
   "source": [
    "# Proof of all Thingy acitivy code are the same as all Respect activity code\n",
    "not_same = dataframe['T_activity_code'] != dataframe['R_activity_code']\n",
    "np.where(not_same)"
   ]
  },
  {
   "cell_type": "code",
   "execution_count": 6,
   "id": "6fc61659",
   "metadata": {},
   "outputs": [],
   "source": [
    "def create_dataset(dataframe, data_columns, label_column, time_steps=1, step=1):\n",
    "    XX, YY = [], []\n",
    "    raw_x = dataframe[data_columns]\n",
    "    raw_y = dataframe[label_column]\n",
    "    \n",
    "    for i in range(0, len(raw_x) - time_steps, step):\n",
    "        vv = raw_x.iloc[i : (i + time_steps)].values\n",
    "        labels = raw_y.iloc[i : i + time_steps]\n",
    "        XX.append(vv)\n",
    "        YY.append(stats.mode(labels)[0][0])\n",
    "        \n",
    "    X = np.array(XX)\n",
    "    Y = np.array(YY).reshape(-1, 1)\n",
    "    return X, Y\n",
    "\n",
    "Thingy_columns = ['T_accel_x', 'T_accel_y', 'T_accel_z', 'T_gyro_x', 'T_gyro_y', 'T_gyro_z', 'mag_x', 'mag_y', 'mag_z']\n",
    "Thingy_label = ['T_activity_code']\n",
    "Respect_columns = ['R_accel_x', 'R_accel_y', 'R_accel_z', 'R_gyro_x', 'R_gyro_y', 'R_gyro_z']\n",
    "Respect_label = ['R_activity_code']"
   ]
  },
  {
   "cell_type": "code",
   "execution_count": 7,
   "id": "3bc1c180",
   "metadata": {},
   "outputs": [
    {
     "name": "stdout",
     "output_type": "stream",
     "text": [
      "(13747, 50, 9) (4583, 50, 9) (13747, 13) (4583, 13)\n"
     ]
    }
   ],
   "source": [
    "# Thingy data only\n",
    "X_Thingy, y_Thingy = create_dataset(dataframe, Thingy_columns, Thingy_label, 50, 10)\n",
    "X_train_Thingy, X_test_Thingy, y_train_Thingy, y_test_Thingy = train_test_split(X_Thingy, y_Thingy, random_state=111)\n",
    "\n",
    "encoder = OneHotEncoder(handle_unknown='ignore', sparse=False)\n",
    "encoder = encoder.fit(y_train_Thingy)\n",
    "y_train_Thingy = encoder.transform(y_train_Thingy)\n",
    "y_test_Thingy  = encoder.transform(y_test_Thingy)\n",
    "print(X_train_Thingy.shape, X_test_Thingy.shape, y_train_Thingy.shape, y_test_Thingy.shape)"
   ]
  },
  {
   "cell_type": "code",
   "execution_count": 8,
   "id": "0bd4ad47",
   "metadata": {},
   "outputs": [
    {
     "name": "stdout",
     "output_type": "stream",
     "text": [
      "(13747, 50, 6) (4583, 50, 6) (13747, 13) (4583, 13)\n"
     ]
    }
   ],
   "source": [
    "# Respect data only\n",
    "X_Respect, y_Respect = create_dataset(dataframe, Respect_columns, Respect_label, 50, 10)\n",
    "X_train_Respect, X_test_Respect, y_train_Respect, y_test_Respect = train_test_split(X_Respect, y_Respect, random_state=111)\n",
    "\n",
    "encoder = OneHotEncoder(handle_unknown='ignore', sparse=False)\n",
    "encoder = encoder.fit(y_train_Respect)\n",
    "y_train_Respect = encoder.transform(y_train_Respect)\n",
    "y_test_Respect  = encoder.transform(y_test_Respect)\n",
    "print(X_train_Respect.shape, X_test_Respect.shape, y_train_Respect.shape, y_test_Respect.shape)"
   ]
  },
  {
   "cell_type": "code",
   "execution_count": 9,
   "id": "50e69a20",
   "metadata": {},
   "outputs": [
    {
     "name": "stdout",
     "output_type": "stream",
     "text": [
      "(13747, 50, 15) (4583, 50, 15) (13747, 13) (4583, 13)\n"
     ]
    }
   ],
   "source": [
    "# All data\n",
    "X, y = create_dataset(dataframe, Thingy_columns + Respect_columns, Thingy_label, 50, 10)\n",
    "X_train, X_test, y_train, y_test = train_test_split(X, y, random_state=111)\n",
    "\n",
    "encoder = OneHotEncoder(handle_unknown='ignore', sparse=False)\n",
    "encoder = encoder.fit(y_train)\n",
    "y_train = encoder.transform(y_train)\n",
    "y_test  = encoder.transform(y_test)\n",
    "print(X_train.shape, X_test.shape, y_train.shape, y_test.shape)"
   ]
  }
 ],
 "metadata": {
  "kernelspec": {
   "display_name": "Python 3 (ipykernel)",
   "language": "python",
   "name": "python3"
  },
  "language_info": {
   "codemirror_mode": {
    "name": "ipython",
    "version": 3
   },
   "file_extension": ".py",
   "mimetype": "text/x-python",
   "name": "python",
   "nbconvert_exporter": "python",
   "pygments_lexer": "ipython3",
   "version": "3.7.13"
  }
 },
 "nbformat": 4,
 "nbformat_minor": 5
}
