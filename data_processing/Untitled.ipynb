{
 "cells": [
  {
   "cell_type": "code",
   "execution_count": 1,
   "id": "62f26246",
   "metadata": {},
   "outputs": [],
   "source": [
    "import numpy as np\n",
    "import pandas as pd"
   ]
  },
  {
   "cell_type": "code",
   "execution_count": 35,
   "id": "d34f9ab1",
   "metadata": {
    "scrolled": true
   },
   "outputs": [
    {
     "name": "stderr",
     "output_type": "stream",
     "text": [
      "C:\\Users\\minsu\\anaconda3\\envs\\pdiot\\lib\\site-packages\\IPython\\core\\interactiveshell.py:3457: DtypeWarning: Columns (12) have mixed types.Specify dtype option on import or set low_memory=False.\n",
      "  exec(code_obj, self.user_global_ns, self.user_ns)\n",
      "C:\\Users\\minsu\\anaconda3\\envs\\pdiot\\lib\\site-packages\\IPython\\core\\interactiveshell.py:3457: DtypeWarning: Columns (15) have mixed types.Specify dtype option on import or set low_memory=False.\n",
      "  exec(code_obj, self.user_global_ns, self.user_ns)\n"
     ]
    }
   ],
   "source": [
    "respeck = pd.read_csv(\"Respeck_recordings_clean.csv\")\n",
    "thingy = pd.read_csv(\"Thingy_recordings_clean.csv\")"
   ]
  },
  {
   "cell_type": "code",
   "execution_count": 41,
   "id": "aa93a6b1",
   "metadata": {},
   "outputs": [],
   "source": [
    "respeck = respeck.rename(columns=\n",
    "                {'accel_x'     :'R_accel_x',\n",
    "                'accel_y'      :'R_accel_y',\n",
    "                'accel_z'      :'R_accel_z',\n",
    "                'gyro_x'       :'R_gyro_x' ,\n",
    "                'gyro_y'       :'R_gyro_y' ,\n",
    "                'gyro_z'       :'R_gyro_z' ,\n",
    "                'subject_id'   :'R_subject_id',\n",
    "                'activity_code':'R_activity_code',\n",
    "                'activity_type':'R_activity_type'})"
   ]
  },
  {
   "cell_type": "code",
   "execution_count": 42,
   "id": "caa8cbac",
   "metadata": {},
   "outputs": [],
   "source": [
    "thingy = thingy.rename(columns=\n",
    "            {'accel_x'     :'T_accel_x',\n",
    "            'accel_y'      :'T_accel_y',\n",
    "            'accel_z'      :'T_accel_z',\n",
    "            'gyro_x'       :'T_gyro_x' ,\n",
    "            'gyro_y'       :'T_gyro_y' ,\n",
    "            'gyro_z'       :'T_gyro_z' ,\n",
    "            'subject_id'   :'T_subject_id',\n",
    "            'activity_code':'T_activity_code',\n",
    "            'activity_type':'T_activity_type'})"
   ]
  },
  {
   "cell_type": "code",
   "execution_count": 47,
   "id": "fa6d01f8",
   "metadata": {},
   "outputs": [],
   "source": [
    "respeck = respeck.sort_values(by=['R_subject_id', 'R_activity_code', 'timestamp']).reset_index(drop=True)\n",
    "respeck = respeck.loc[:, ['R_accel_x', 'R_accel_y', 'R_accel_z', 'R_gyro_x', 'R_gyro_y', 'R_gyro_z', 'R_subject_id',\n",
    "                         'R_activity_code', 'R_activity_type']]\n",
    "thingy = thingy.sort_values(by=['T_subject_id', 'T_activity_code', 'timestamp']).reset_index(drop=True)\n",
    "thingy = thingy.loc[:, ['T_accel_x', 'T_accel_y', 'T_accel_z', 'T_gyro_x', 'T_gyro_y', 'T_gyro_z', 'mag_x', 'mag_y', 'mag_z', \n",
    "                        'T_subject_id', 'T_activity_code', 'T_activity_type']]"
   ]
  },
  {
   "cell_type": "code",
   "execution_count": 48,
   "id": "ec34670f",
   "metadata": {},
   "outputs": [],
   "source": [
    "df = pd.concat([thingy, respeck], axis=1)"
   ]
  },
  {
   "cell_type": "code",
   "execution_count": 50,
   "id": "1ac3503a",
   "metadata": {},
   "outputs": [
    {
     "data": {
      "text/plain": [
       "(array([   762,    763,    764, ..., 481934, 481935, 481936], dtype=int64),)"
      ]
     },
     "execution_count": 50,
     "metadata": {},
     "output_type": "execute_result"
    }
   ],
   "source": [
    "not_same = df['T_activity_code'] != df['R_activity_code']\n",
    "np.where(not_same)"
   ]
  },
  {
   "cell_type": "code",
   "execution_count": 160,
   "id": "738f30c9",
   "metadata": {},
   "outputs": [],
   "source": [
    "i = 0\n",
    "j = 0\n",
    "lastid = df['T_subject_id'].iloc[0]\n",
    "last = df['T_activity_code'].iloc[0]\n",
    "drop_thingy = []\n",
    "drop_respeck = []\n",
    "while i < len(thingy) and j < len(respeck):\n",
    "    if df['T_activity_code'].iloc[i] != df['R_activity_code'].iloc[j] or df['T_subject_id'].iloc[i] != df['R_subject_id'].iloc[j]:\n",
    "        if df['T_activity_code'].iloc[i] != last or df['T_subject_id'].iloc[i] != lastid:\n",
    "            drop_respeck.append(j)\n",
    "            j+=1\n",
    "        if df['R_activity_code'].iloc[j] != last or df['R_subject_id'].iloc[j] != lastid:\n",
    "            drop_thingy.append(i)\n",
    "            i+=1\n",
    "    else:\n",
    "        last = df['T_activity_code'].iloc[i]\n",
    "        lastid = df['T_subject_id'].iloc[i]\n",
    "        i+=1\n",
    "        j+=1\n",
    "dff = pd.concat([thingy.drop(drop_thingy).reset_index(drop=True), respeck.drop(drop_respeck).reset_index(drop=True)], axis=1)\n",
    "dfff = dff.dropna()"
   ]
  },
  {
   "cell_type": "code",
   "execution_count": 161,
   "id": "8cc13e6a",
   "metadata": {},
   "outputs": [
    {
     "data": {
      "text/plain": [
       "(array([], dtype=int64),)"
      ]
     },
     "execution_count": 161,
     "metadata": {},
     "output_type": "execute_result"
    }
   ],
   "source": [
    "np.where(dfff['T_activity_code'] != dfff['R_activity_code'])"
   ]
  },
  {
   "cell_type": "code",
   "execution_count": 162,
   "id": "150b30dc",
   "metadata": {},
   "outputs": [
    {
     "data": {
      "text/plain": [
       "(array([], dtype=int64),)"
      ]
     },
     "execution_count": 162,
     "metadata": {},
     "output_type": "execute_result"
    }
   ],
   "source": [
    "np.where(dfff['T_subject_id'] != dfff['R_subject_id'])"
   ]
  },
  {
   "cell_type": "code",
   "execution_count": 163,
   "id": "60da32ea",
   "metadata": {},
   "outputs": [
    {
     "data": {
      "text/plain": [
       "276735"
      ]
     },
     "execution_count": 163,
     "metadata": {},
     "output_type": "execute_result"
    }
   ],
   "source": [
    "len(dfff)"
   ]
  }
 ],
 "metadata": {
  "kernelspec": {
   "display_name": "Python 3 (ipykernel)",
   "language": "python",
   "name": "python3"
  },
  "language_info": {
   "codemirror_mode": {
    "name": "ipython",
    "version": 3
   },
   "file_extension": ".py",
   "mimetype": "text/x-python",
   "name": "python",
   "nbconvert_exporter": "python",
   "pygments_lexer": "ipython3",
   "version": "3.7.13"
  }
 },
 "nbformat": 4,
 "nbformat_minor": 5
}
