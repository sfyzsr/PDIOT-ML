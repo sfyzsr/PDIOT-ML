{
 "cells": [
  {
   "cell_type": "code",
   "execution_count": 68,
   "id": "4608ec33",
   "metadata": {},
   "outputs": [],
   "source": [
    "from sklearn.model_selection import train_test_split\n",
    "from sklearn.preprocessing import OneHotEncoder\n",
    "from scipy import stats\n",
    "import numpy as np\n",
    "import pandas as pd\n",
    "import os\n",
    "import tensorflow as tf\n",
    "from tensorflow import keras\n",
    "from sklearn.metrics import confusion_matrix\n",
    "import seaborn as sns\n",
    "from pandas.plotting import register_matplotlib_converters\n",
    "from pylab import rcParams\n",
    "import matplotlib.pyplot as plt"
   ]
  },
  {
   "cell_type": "code",
   "execution_count": 2,
   "id": "3b3ae151",
   "metadata": {},
   "outputs": [
    {
     "name": "stdout",
     "output_type": "stream",
     "text": [
      "1014 1014\n"
     ]
    }
   ],
   "source": [
    "def getFiles(file_list, which):\n",
    "    datapath = \"./../2022\"\n",
    "    for root, dirs, files in os.walk(datapath):\n",
    "        for file in files:\n",
    "            if ('csv' in file and not (\"Movement\" in file) and (file[0] == which)):\n",
    "                file_list.append(os.path.join(root, file))\n",
    "                \n",
    "Thingy_list = []\n",
    "Respect_list = []\n",
    "\n",
    "getFiles(Thingy_list, 'T')\n",
    "getFiles(Respect_list, 'R')\n",
    "\n",
    "print(len(Thingy_list), len(Respect_list))"
   ]
  },
  {
   "cell_type": "code",
   "execution_count": 3,
   "id": "d0a4fe1d",
   "metadata": {},
   "outputs": [],
   "source": [
    "def all_csv_to_dataframe(dataframe, thingy_list, respect_list):\n",
    "    for i in range(len(thingy_list)):\n",
    "        thingy_file = thingy_list[i]\n",
    "        respect_file = respect_list[i]\n",
    "        if thingy_file[25:43] == respect_file[26:44]:\n",
    "            \n",
    "            new_thingy = pd.read_csv(thingy_file)\n",
    "            new_thingy = new_thingy.rename(columns=\n",
    "                             {'accel_x'      :'T_accel_x',\n",
    "                              'accel_y'      :'T_accel_y',\n",
    "                              'accel_z'      :'T_accel_z',\n",
    "                              'gyro_x'       :'T_gyro_x' ,\n",
    "                              'gyro_y'       :'T_gyro_y' ,\n",
    "                              'gyro_z'       :'T_gyro_z' ,\n",
    "                              'activity_code':'T_activity_code'})\n",
    "            new_respect = pd.read_csv(respect_file)\n",
    "            new_respect = new_respect.rename(columns=\n",
    "                             {'accel_x'      :'R_accel_x',\n",
    "                              'accel_y'      :'R_accel_y',\n",
    "                              'accel_z'      :'R_accel_z',\n",
    "                              'gyro_x'       :'R_gyro_x' ,\n",
    "                              'gyro_y'       :'R_gyro_y' ,\n",
    "                              'gyro_z'       :'R_gyro_z' ,\n",
    "                              'activity_code':'R_activity_code'})\n",
    "            \n",
    "            new_dataframe = pd.concat([new_thingy, new_respect], axis=1)\n",
    "            dataframe = pd.concat([dataframe, new_dataframe])\n",
    "            \n",
    "    return dataframe\n",
    "\n",
    "dataframe = pd.DataFrame()\n",
    "dataframe = all_csv_to_dataframe(dataframe, Thingy_list, Respect_list)"
   ]
  },
  {
   "cell_type": "code",
   "execution_count": 4,
   "id": "5b991c48",
   "metadata": {},
   "outputs": [
    {
     "name": "stdout",
     "output_type": "stream",
     "text": [
      "6873 664\n",
      "0 0\n",
      "[ 12.  13.  31.   7.   2.   8.   6.  11.   5.   4.   0. 100.   1.]\n",
      "[ 12.  13.  31.   7.   2.   8.   6.  11.   5.   4.   0. 100.   1.]\n"
     ]
    }
   ],
   "source": [
    "# Somehow there are 6873 and 664 null activity code/type in thingy and respect\n",
    "print(dataframe['T_activity_code'].isnull().sum(), dataframe['R_activity_code'].isnull().sum())\n",
    "dataframe = dataframe.dropna()\n",
    "print(dataframe['T_activity_code'].isnull().sum(), dataframe['R_activity_code'].isnull().sum())\n",
    "\n",
    "print(pd.unique(dataframe['T_activity_code']))\n",
    "print(pd.unique(dataframe['R_activity_code']))"
   ]
  },
  {
   "cell_type": "code",
   "execution_count": 5,
   "id": "a9cb3f94",
   "metadata": {},
   "outputs": [
    {
     "data": {
      "text/plain": [
       "(array([], dtype=int64),)"
      ]
     },
     "execution_count": 5,
     "metadata": {},
     "output_type": "execute_result"
    }
   ],
   "source": [
    "# Proof of all Thingy acitivy code are the same as all Respect activity code\n",
    "not_same = dataframe['T_activity_code'] != dataframe['R_activity_code']\n",
    "np.where(not_same)"
   ]
  },
  {
   "cell_type": "code",
   "execution_count": 47,
   "id": "6fc61659",
   "metadata": {},
   "outputs": [],
   "source": [
    "def create_dataset(dataframe, data_columns, label_column, time_steps=1, step=1):\n",
    "    XX, YY = [], []\n",
    "    raw_x = dataframe[data_columns]\n",
    "    raw_y = dataframe[label_column]\n",
    "    \n",
    "    for i in range(0, len(raw_x) - time_steps, step):\n",
    "        label = raw_y.iloc[i].values\n",
    "        value = raw_x.iloc[i]\n",
    "        same = True\n",
    "        for j in range(i + 1, i + time_steps):\n",
    "            if label != raw_y.iloc[j].values:\n",
    "                same = False\n",
    "                break\n",
    "        if not same:\n",
    "            continue\n",
    "        else:\n",
    "            value = raw_x.iloc[i: i + time_steps]\n",
    "        XX.append(value)\n",
    "        YY.append(label)\n",
    "        \n",
    "    X = np.array(XX)\n",
    "    Y = np.array(YY)\n",
    "    return X, Y\n",
    "\n",
    "Thingy_columns = ['T_accel_x', 'T_accel_y', 'T_accel_z', 'T_gyro_x', 'T_gyro_y', 'T_gyro_z', 'mag_x', 'mag_y', 'mag_z']\n",
    "Thingy_label = ['T_activity_code']\n",
    "Respect_columns = ['R_accel_x', 'R_accel_y', 'R_accel_z', 'R_gyro_x', 'R_gyro_y', 'R_gyro_z']\n",
    "Respect_label = ['R_activity_code']"
   ]
  },
  {
   "cell_type": "code",
   "execution_count": 59,
   "id": "3bc1c180",
   "metadata": {},
   "outputs": [
    {
     "name": "stdout",
     "output_type": "stream",
     "text": [
      "(12864, 50, 9) (4289, 50, 9) (12864, 13) (4289, 13)\n"
     ]
    }
   ],
   "source": [
    "# Thingy data only\n",
    "X_Thingy, y_Thingy = create_dataset(dataframe, Thingy_columns, Thingy_label, 50, 10)\n",
    "X_train_Thingy, X_test_Thingy, y_train_Thingy, y_test_Thingy = train_test_split(X_Thingy, y_Thingy, random_state=111)\n",
    "\n",
    "encoder = OneHotEncoder(handle_unknown='ignore', sparse=False)\n",
    "encoder = encoder.fit(y_train_Thingy)\n",
    "y_train_Thingy = encoder.transform(y_train_Thingy)\n",
    "y_test_Thingy  = encoder.transform(y_test_Thingy)\n",
    "print(X_train_Thingy.shape, X_test_Thingy.shape, y_train_Thingy.shape, y_test_Thingy.shape)"
   ]
  },
  {
   "cell_type": "code",
   "execution_count": 48,
   "id": "0bd4ad47",
   "metadata": {},
   "outputs": [
    {
     "name": "stdout",
     "output_type": "stream",
     "text": [
      "(12864, 50, 6) (4289, 50, 6) (12864, 13) (4289, 13)\n"
     ]
    }
   ],
   "source": [
    "# Respect data only\n",
    "X_Respect, y_Respect = create_dataset(dataframe, Respect_columns, Respect_label, 50, 10)\n",
    "X_train_Respect, X_test_Respect, y_train_Respect, y_test_Respect = train_test_split(X_Respect, y_Respect, random_state=111)\n",
    "\n",
    "encoder = OneHotEncoder(handle_unknown='ignore', sparse=False)\n",
    "encoder = encoder.fit(y_train_Respect)\n",
    "y_train_Respect = encoder.transform(y_train_Respect)\n",
    "y_test_Respect  = encoder.transform(y_test_Respect)\n",
    "print(X_train_Respect.shape, X_test_Respect.shape, y_train_Respect.shape, y_test_Respect.shape)"
   ]
  },
  {
   "cell_type": "code",
   "execution_count": 60,
   "id": "50e69a20",
   "metadata": {},
   "outputs": [
    {
     "name": "stdout",
     "output_type": "stream",
     "text": [
      "(12864, 50, 15) (4289, 50, 15) (12864, 13) (4289, 13)\n"
     ]
    }
   ],
   "source": [
    "# All data\n",
    "X, y = create_dataset(dataframe, Thingy_columns + Respect_columns, Thingy_label, 50, 10)\n",
    "X_train, X_test, y_train, y_test = train_test_split(X, y, random_state=111)\n",
    "\n",
    "encoder = OneHotEncoder(handle_unknown='ignore', sparse=False)\n",
    "encoder = encoder.fit(y_train)\n",
    "y_train = encoder.transform(y_train)\n",
    "y_test  = encoder.transform(y_test)\n",
    "print(X_train.shape, X_test.shape, y_train.shape, y_test.shape)"
   ]
  },
  {
   "cell_type": "code",
   "execution_count": 62,
   "id": "02c3e52f",
   "metadata": {
    "scrolled": true
   },
   "outputs": [
    {
     "name": "stdout",
     "output_type": "stream",
     "text": [
      "Epoch 1/30\n",
      "402/402 [==============================] - 6s 12ms/step - loss: 1.0799 - accuracy: 0.5956\n",
      "Epoch 2/30\n",
      "402/402 [==============================] - 4s 11ms/step - loss: 0.5313 - accuracy: 0.7780\n",
      "Epoch 3/30\n",
      "402/402 [==============================] - 4s 11ms/step - loss: 0.4146 - accuracy: 0.8337\n",
      "Epoch 4/30\n",
      "402/402 [==============================] - 5s 12ms/step - loss: 0.3361 - accuracy: 0.8697\n",
      "Epoch 5/30\n",
      "402/402 [==============================] - 5s 11ms/step - loss: 0.2670 - accuracy: 0.8977\n",
      "Epoch 6/30\n",
      "402/402 [==============================] - 5s 12ms/step - loss: 0.2122 - accuracy: 0.9179\n",
      "Epoch 7/30\n",
      "402/402 [==============================] - 5s 11ms/step - loss: 0.2111 - accuracy: 0.9229\n",
      "Epoch 8/30\n",
      "402/402 [==============================] - 5s 11ms/step - loss: 0.1527 - accuracy: 0.9430\n",
      "Epoch 9/30\n",
      "402/402 [==============================] - 4s 11ms/step - loss: 0.1298 - accuracy: 0.9530\n",
      "Epoch 10/30\n",
      "402/402 [==============================] - 4s 10ms/step - loss: 0.1218 - accuracy: 0.9580\n",
      "Epoch 11/30\n",
      "402/402 [==============================] - 5s 11ms/step - loss: 0.1111 - accuracy: 0.9616\n",
      "Epoch 12/30\n",
      "402/402 [==============================] - 5s 12ms/step - loss: 0.0847 - accuracy: 0.9694\n",
      "Epoch 13/30\n",
      "402/402 [==============================] - 5s 12ms/step - loss: 0.0899 - accuracy: 0.9700\n",
      "Epoch 14/30\n",
      "402/402 [==============================] - 5s 12ms/step - loss: 0.0957 - accuracy: 0.9674\n",
      "Epoch 15/30\n",
      "402/402 [==============================] - 5s 11ms/step - loss: 0.0717 - accuracy: 0.9759\n",
      "Epoch 16/30\n",
      "402/402 [==============================] - 5s 11ms/step - loss: 0.0819 - accuracy: 0.9768\n",
      "Epoch 17/30\n",
      "402/402 [==============================] - 4s 11ms/step - loss: 0.0583 - accuracy: 0.9789\n",
      "Epoch 18/30\n",
      "402/402 [==============================] - 5s 11ms/step - loss: 0.0487 - accuracy: 0.9841\n",
      "Epoch 19/30\n",
      "402/402 [==============================] - 5s 12ms/step - loss: 0.0746 - accuracy: 0.9775\n",
      "Epoch 20/30\n",
      "402/402 [==============================] - 5s 11ms/step - loss: 0.0411 - accuracy: 0.9860\n",
      "Epoch 21/30\n",
      "402/402 [==============================] - 4s 11ms/step - loss: 0.1023 - accuracy: 0.9712\n",
      "Epoch 22/30\n",
      "402/402 [==============================] - 5s 12ms/step - loss: 0.0395 - accuracy: 0.9879\n",
      "Epoch 23/30\n",
      "402/402 [==============================] - 5s 12ms/step - loss: 0.0475 - accuracy: 0.9842\n",
      "Epoch 24/30\n",
      "402/402 [==============================] - 4s 11ms/step - loss: 0.0388 - accuracy: 0.9851\n",
      "Epoch 25/30\n",
      "402/402 [==============================] - 5s 12ms/step - loss: 0.0601 - accuracy: 0.9826\n",
      "Epoch 26/30\n",
      "402/402 [==============================] - 5s 11ms/step - loss: 0.0483 - accuracy: 0.9863\n",
      "Epoch 27/30\n",
      "402/402 [==============================] - 5s 12ms/step - loss: 0.0418 - accuracy: 0.9869\n",
      "Epoch 28/30\n",
      "402/402 [==============================] - 4s 11ms/step - loss: 0.0528 - accuracy: 0.9849\n",
      "Epoch 29/30\n",
      "402/402 [==============================] - 5s 11ms/step - loss: 0.0981 - accuracy: 0.9780\n",
      "Epoch 30/30\n",
      "402/402 [==============================] - 4s 11ms/step - loss: 0.0640 - accuracy: 0.9831\n",
      "Epoch 1/30\n",
      "402/402 [==============================] - 6s 12ms/step - loss: 1.9224 - accuracy: 0.3757\n",
      "Epoch 2/30\n",
      "402/402 [==============================] - 4s 11ms/step - loss: 0.9516 - accuracy: 0.6353\n",
      "Epoch 3/30\n",
      "402/402 [==============================] - 5s 11ms/step - loss: 0.7556 - accuracy: 0.7104\n",
      "Epoch 4/30\n",
      "402/402 [==============================] - 4s 11ms/step - loss: 0.5860 - accuracy: 0.7756\n",
      "Epoch 5/30\n",
      "402/402 [==============================] - 4s 11ms/step - loss: 0.4587 - accuracy: 0.8260\n",
      "Epoch 6/30\n",
      "402/402 [==============================] - 5s 11ms/step - loss: 0.3875 - accuracy: 0.8560\n",
      "Epoch 7/30\n",
      "402/402 [==============================] - 5s 12ms/step - loss: 0.3310 - accuracy: 0.8811\n",
      "Epoch 8/30\n",
      "402/402 [==============================] - 4s 11ms/step - loss: 0.2569 - accuracy: 0.9083\n",
      "Epoch 9/30\n",
      "402/402 [==============================] - 4s 11ms/step - loss: 0.2077 - accuracy: 0.9253\n",
      "Epoch 10/30\n",
      "402/402 [==============================] - 4s 11ms/step - loss: 0.1790 - accuracy: 0.9363\n",
      "Epoch 11/30\n",
      "402/402 [==============================] - 4s 10ms/step - loss: 0.1438 - accuracy: 0.9484\n",
      "Epoch 12/30\n",
      "402/402 [==============================] - 4s 11ms/step - loss: 0.1420 - accuracy: 0.9499\n",
      "Epoch 13/30\n",
      "402/402 [==============================] - 4s 11ms/step - loss: 0.1672 - accuracy: 0.9422\n",
      "Epoch 14/30\n",
      "402/402 [==============================] - 4s 11ms/step - loss: 0.1449 - accuracy: 0.9513\n",
      "Epoch 15/30\n",
      "402/402 [==============================] - 4s 11ms/step - loss: 0.1953 - accuracy: 0.9445\n",
      "Epoch 16/30\n",
      "402/402 [==============================] - 5s 11ms/step - loss: 0.1187 - accuracy: 0.9600\n",
      "Epoch 17/30\n",
      "402/402 [==============================] - 4s 10ms/step - loss: 0.1010 - accuracy: 0.9649\n",
      "Epoch 18/30\n",
      "402/402 [==============================] - 5s 11ms/step - loss: 0.1477 - accuracy: 0.9604\n",
      "Epoch 19/30\n",
      "402/402 [==============================] - 5s 12ms/step - loss: 0.0983 - accuracy: 0.9661\n",
      "Epoch 20/30\n",
      "402/402 [==============================] - 4s 10ms/step - loss: 0.0851 - accuracy: 0.9705\n",
      "Epoch 21/30\n",
      "402/402 [==============================] - 4s 11ms/step - loss: 0.1103 - accuracy: 0.9656\n",
      "Epoch 22/30\n",
      "402/402 [==============================] - 4s 11ms/step - loss: 0.0747 - accuracy: 0.9736\n",
      "Epoch 23/30\n",
      "402/402 [==============================] - 4s 11ms/step - loss: 0.0745 - accuracy: 0.9751\n",
      "Epoch 24/30\n",
      "402/402 [==============================] - 5s 12ms/step - loss: 0.0628 - accuracy: 0.9796\n",
      "Epoch 25/30\n",
      "402/402 [==============================] - 5s 12ms/step - loss: 0.1366 - accuracy: 0.9624\n",
      "Epoch 26/30\n",
      "402/402 [==============================] - 4s 11ms/step - loss: 0.1420 - accuracy: 0.9673\n",
      "Epoch 27/30\n",
      "402/402 [==============================] - 5s 12ms/step - loss: 0.0977 - accuracy: 0.9728\n",
      "Epoch 28/30\n",
      "402/402 [==============================] - 5s 12ms/step - loss: 0.0868 - accuracy: 0.9726\n",
      "Epoch 29/30\n",
      "402/402 [==============================] - 5s 12ms/step - loss: 0.0981 - accuracy: 0.9718\n",
      "Epoch 30/30\n",
      "402/402 [==============================] - 4s 11ms/step - loss: 0.0466 - accuracy: 0.9843\n",
      "Epoch 1/30\n",
      "402/402 [==============================] - 6s 12ms/step - loss: 1.4374 - accuracy: 0.5250\n",
      "Epoch 2/30\n",
      "402/402 [==============================] - 5s 12ms/step - loss: 0.4127 - accuracy: 0.8426\n",
      "Epoch 3/30\n",
      "402/402 [==============================] - 5s 12ms/step - loss: 0.2232 - accuracy: 0.9179\n",
      "Epoch 4/30\n",
      "402/402 [==============================] - 5s 12ms/step - loss: 0.1319 - accuracy: 0.9555\n",
      "Epoch 5/30\n",
      "402/402 [==============================] - 5s 12ms/step - loss: 0.1039 - accuracy: 0.9659\n",
      "Epoch 6/30\n",
      "402/402 [==============================] - 5s 12ms/step - loss: 0.0735 - accuracy: 0.9763\n",
      "Epoch 7/30\n",
      "402/402 [==============================] - 4s 11ms/step - loss: 0.0714 - accuracy: 0.9761\n",
      "Epoch 8/30\n",
      "402/402 [==============================] - 5s 11ms/step - loss: 0.0929 - accuracy: 0.9722\n",
      "Epoch 9/30\n",
      "402/402 [==============================] - 6s 15ms/step - loss: 0.0821 - accuracy: 0.9737\n",
      "Epoch 10/30\n",
      "402/402 [==============================] - 6s 14ms/step - loss: 0.0363 - accuracy: 0.9880\n",
      "Epoch 11/30\n",
      "402/402 [==============================] - 5s 12ms/step - loss: 0.0631 - accuracy: 0.9828\n",
      "Epoch 12/30\n",
      "402/402 [==============================] - 5s 11ms/step - loss: 0.0541 - accuracy: 0.9832\n",
      "Epoch 13/30\n",
      "402/402 [==============================] - 5s 12ms/step - loss: 0.0609 - accuracy: 0.9851\n",
      "Epoch 14/30\n",
      "402/402 [==============================] - 6s 15ms/step - loss: 0.0172 - accuracy: 0.9936\n",
      "Epoch 15/30\n",
      "402/402 [==============================] - 5s 13ms/step - loss: 0.0409 - accuracy: 0.9873\n",
      "Epoch 16/30\n",
      "402/402 [==============================] - 5s 12ms/step - loss: 0.0695 - accuracy: 0.9831\n",
      "Epoch 17/30\n",
      "402/402 [==============================] - 5s 11ms/step - loss: 0.0615 - accuracy: 0.9838\n",
      "Epoch 18/30\n",
      "402/402 [==============================] - 5s 12ms/step - loss: 0.0441 - accuracy: 0.9892\n",
      "Epoch 19/30\n",
      "402/402 [==============================] - 5s 14ms/step - loss: 0.0387 - accuracy: 0.9899\n",
      "Epoch 20/30\n",
      "402/402 [==============================] - 5s 12ms/step - loss: 0.0176 - accuracy: 0.9954\n",
      "Epoch 21/30\n"
     ]
    },
    {
     "name": "stdout",
     "output_type": "stream",
     "text": [
      "402/402 [==============================] - 4s 11ms/step - loss: 0.0943 - accuracy: 0.9801\n",
      "Epoch 22/30\n",
      "402/402 [==============================] - 5s 11ms/step - loss: 0.0531 - accuracy: 0.9856\n",
      "Epoch 23/30\n",
      "402/402 [==============================] - 5s 12ms/step - loss: 0.0340 - accuracy: 0.9908\n",
      "Epoch 24/30\n",
      "402/402 [==============================] - 4s 11ms/step - loss: 0.0379 - accuracy: 0.9901\n",
      "Epoch 25/30\n",
      "402/402 [==============================] - 4s 11ms/step - loss: 0.0237 - accuracy: 0.9932\n",
      "Epoch 26/30\n",
      "402/402 [==============================] - 5s 12ms/step - loss: 0.0166 - accuracy: 0.9951\n",
      "Epoch 27/30\n",
      "402/402 [==============================] - 5s 12ms/step - loss: 0.0292 - accuracy: 0.9934\n",
      "Epoch 28/30\n",
      "402/402 [==============================] - 4s 11ms/step - loss: 0.0576 - accuracy: 0.9862\n",
      "Epoch 29/30\n",
      "402/402 [==============================] - 5s 12ms/step - loss: 0.0954 - accuracy: 0.9846\n",
      "Epoch 30/30\n",
      "402/402 [==============================] - 5s 12ms/step - loss: 0.0650 - accuracy: 0.9881\n"
     ]
    }
   ],
   "source": [
    "def create_model(X, y):\n",
    "    n_timesteps, n_features, n_outputs = X.shape[1], X.shape[2], y.shape[1]\n",
    "    model = tf.keras.Sequential()\n",
    "    model.add(tf.keras.layers.Conv1D(filters=256, kernel_size=3, activation='relu', input_shape=(n_timesteps,n_features)))\n",
    "    model.add(tf.keras.layers.Conv1D(filters=128, kernel_size=3, activation='relu'))\n",
    "    model.add(tf.keras.layers.Conv1D(filters=64, kernel_size=3, activation='relu'))\n",
    "    model.add(tf.keras.layers.Dropout(0.5))\n",
    "    model.add(tf.keras.layers.MaxPooling1D(pool_size=2))\n",
    "    model.add(tf.keras.layers.Flatten())\n",
    "    model.add(tf.keras.layers.Dense(100, activation='relu'))\n",
    "    model.add(tf.keras.layers.Dense(n_outputs, activation='softmax'))\n",
    "    model.compile(loss='categorical_crossentropy', optimizer='adam', metrics=['accuracy'])\n",
    "    # train model\n",
    "    model.fit(X, y, epochs=30, batch_size=32, verbose=1)\n",
    "    return model\n",
    "\n",
    "respeck_model = create_model(X_train_Respect, y_train_Respect)\n",
    "thingy_model = create_model(X_train_Thingy, y_train_Thingy)\n",
    "all_model = create_model(X_train, y_train)"
   ]
  },
  {
   "cell_type": "code",
   "execution_count": 70,
   "id": "315724fe",
   "metadata": {},
   "outputs": [
    {
     "name": "stdout",
     "output_type": "stream",
     "text": [
      "test loss, test acc: [0.07174436748027802, 0.9764513969421387]\n",
      "test loss, test acc: [0.035370342433452606, 0.9867101907730103]\n",
      "test loss, test acc: [0.19739298522472382, 0.9785497784614563]\n"
     ]
    }
   ],
   "source": [
    "respeck_results = respeck_model.evaluate(X_test_Respect, y_test_Respect, batch_size=32, verbose=0)\n",
    "print(\"test loss, test acc:\", respeck_results)\n",
    "\n",
    "thingy_results = thingy_model.evaluate(X_test_Thingy, y_test_Thingy, batch_size=32, verbose=0)\n",
    "print(\"test loss, test acc:\", thingy_results)\n",
    "\n",
    "all_results = all_model.evaluate(X_test, y_test, batch_size=32, verbose=0)\n",
    "print(\"test loss, test acc:\", all_results)"
   ]
  },
  {
   "cell_type": "code",
   "execution_count": 69,
   "id": "3d905663",
   "metadata": {},
   "outputs": [
    {
     "name": "stdout",
     "output_type": "stream",
     "text": [
      "135/135 [==============================] - 0s 3ms/step\n"
     ]
    },
    {
     "data": {
      "image/png": "[encoded data removed]",
      "text/plain": [
       "<Figure size 1200x1000 with 2 Axes>"
      ]
     },
     "metadata": {},
     "output_type": "display_data"
    }
   ],
   "source": [
    "predy = model.predict(X_test_Respect)\n",
    "# print(predy)\n",
    "def plot_cm(y_true, y_pred, class_names):\n",
    "    cm = confusion_matrix(y_true, y_pred, normalize='true')\n",
    "    fig, ax = plt.subplots(figsize=(12, 10)) \n",
    "    ax = sns.heatmap(\n",
    "        cm, \n",
    "        annot=True, \n",
    "        fmt=\".2f\", \n",
    "        cmap=sns.diverging_palette(220, 20, n=7),\n",
    "        ax=ax\n",
    "    )\n",
    "\n",
    "    plt.xticks(rotation=70)\n",
    "    plt.yticks(rotation=90)\n",
    "    plt.ylabel('Actual')\n",
    "    plt.xlabel('Predicted')\n",
    "    ax.set_xticklabels(class_names)\n",
    "    ax.set_yticklabels(class_names, rotation=0)\n",
    "    b, t = plt.ylim() # discover the values for bottom and top\n",
    "    b += 0.5 # Add 0.5 to the bottom\n",
    "    t -= 0.5 # Subtract 0.5 from the top\n",
    "    plt.ylim(b, t) # update the ylim(bottom, top) values\n",
    "    plt.show() # ta-da!\n",
    "\n",
    "register_matplotlib_converters()\n",
    "sns.set(style='whitegrid', palette='muted', font_scale=1)\n",
    "\n",
    "rcParams['figure.figsize'] = 22, 10\n",
    "\n",
    "plot_cm(\n",
    "    encoder.inverse_transform(y_test),\n",
    "    encoder.inverse_transform(predy),\n",
    "    encoder.categories_[0]\n",
    ") "
   ]
  }
 ],
 "metadata": {
  "kernelspec": {
   "display_name": "Python 3 (ipykernel)",
   "language": "python",
   "name": "python3"
  },
  "language_info": {
   "codemirror_mode": {
    "name": "ipython",
    "version": 3
   },
   "file_extension": ".py",
   "mimetype": "text/x-python",
   "name": "python",
   "nbconvert_exporter": "python",
   "pygments_lexer": "ipython3",
   "version": "3.7.13"
  }
 },
 "nbformat": 4,
 "nbformat_minor": 5
}
