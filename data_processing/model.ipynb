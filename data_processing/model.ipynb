{
 "cells": [
  {
   "cell_type": "code",
   "execution_count": 1,
   "id": "4608ec33",
   "metadata": {},
   "outputs": [],
   "source": [
    "from sklearn.model_selection import train_test_split\n",
    "from sklearn.preprocessing import OneHotEncoder\n",
    "from scipy import stats\n",
    "import numpy as np\n",
    "import pandas as pd\n",
    "import os\n",
    "import tensorflow as tf\n",
    "from tensorflow import keras\n",
    "from sklearn.metrics import confusion_matrix\n",
    "import seaborn as sns\n",
    "from pandas.plotting import register_matplotlib_converters\n",
    "from pylab import rcParams\n",
    "import matplotlib.pyplot as plt"
   ]
  },
  {
   "cell_type": "code",
   "execution_count": 2,
   "id": "3b3ae151",
   "metadata": {},
   "outputs": [
    {
     "name": "stdout",
     "output_type": "stream",
     "text": [
      "1014 1014\n"
     ]
    }
   ],
   "source": [
    "def getFiles(file_list, which):\n",
    "    datapath = \"./../2022\"\n",
    "    for root, dirs, files in os.walk(datapath):\n",
    "        for file in files:\n",
    "            if ('csv' in file and not (\"Movement\" in file) and (file[0] == which)):\n",
    "                file_list.append(os.path.join(root, file))\n",
    "                \n",
    "Thingy_list = []\n",
    "Respect_list = []\n",
    "\n",
    "getFiles(Thingy_list, 'T')\n",
    "getFiles(Respect_list, 'R')\n",
    "\n",
    "print(len(Thingy_list), len(Respect_list))"
   ]
  },
  {
   "cell_type": "code",
   "execution_count": 3,
   "id": "d0a4fe1d",
   "metadata": {},
   "outputs": [],
   "source": [
    "def all_csv_to_dataframe(dataframe, thingy_list, respect_list):\n",
    "    for i in range(len(thingy_list)):\n",
    "        thingy_file = thingy_list[i]\n",
    "        respect_file = respect_list[i]\n",
    "        if thingy_file[25:43] == respect_file[26:44]:\n",
    "            \n",
    "            new_thingy = pd.read_csv(thingy_file)\n",
    "            new_thingy = new_thingy.rename(columns=\n",
    "                             {'accel_x'      :'T_accel_x',\n",
    "                              'accel_y'      :'T_accel_y',\n",
    "                              'accel_z'      :'T_accel_z',\n",
    "                              'gyro_x'       :'T_gyro_x' ,\n",
    "                              'gyro_y'       :'T_gyro_y' ,\n",
    "                              'gyro_z'       :'T_gyro_z' ,\n",
    "                              'activity_code':'T_activity_code'})\n",
    "            new_respect = pd.read_csv(respect_file)\n",
    "            new_respect = new_respect.rename(columns=\n",
    "                             {'accel_x'      :'R_accel_x',\n",
    "                              'accel_y'      :'R_accel_y',\n",
    "                              'accel_z'      :'R_accel_z',\n",
    "                              'gyro_x'       :'R_gyro_x' ,\n",
    "                              'gyro_y'       :'R_gyro_y' ,\n",
    "                              'gyro_z'       :'R_gyro_z' ,\n",
    "                              'activity_code':'R_activity_code'})\n",
    "            \n",
    "            new_dataframe = pd.concat([new_thingy, new_respect], axis=1)\n",
    "            dataframe = pd.concat([dataframe, new_dataframe])\n",
    "    dataframe = dataframe.dropna()\n",
    "    return dataframe\n",
    "\n",
    "dataframe = pd.DataFrame()\n",
    "dataframe = all_csv_to_dataframe(dataframe, Thingy_list, Respect_list)"
   ]
  },
  {
   "cell_type": "code",
   "execution_count": 4,
   "id": "5b991c48",
   "metadata": {},
   "outputs": [
    {
     "name": "stdout",
     "output_type": "stream",
     "text": [
      "0 0\n",
      "0 0\n",
      "[ 12.  13.  31.   7.   2.   8.   6.  11.   5.   4.   0. 100.   1.]\n",
      "[ 12.  13.  31.   7.   2.   8.   6.  11.   5.   4.   0. 100.   1.]\n"
     ]
    }
   ],
   "source": [
    "# Somehow there are 6873 and 664 null activity code/type in thingy and respect\n",
    "print(dataframe['T_activity_code'].isnull().sum(), dataframe['R_activity_code'].isnull().sum())\n",
    "dataframe = dataframe.dropna()\n",
    "print(dataframe['T_activity_code'].isnull().sum(), dataframe['R_activity_code'].isnull().sum())\n",
    "\n",
    "print(pd.unique(dataframe['T_activity_code']))\n",
    "print(pd.unique(dataframe['R_activity_code']))"
   ]
  },
  {
   "cell_type": "code",
   "execution_count": 5,
   "id": "a9cb3f94",
   "metadata": {},
   "outputs": [
    {
     "data": {
      "text/plain": [
       "(array([], dtype=int64),)"
      ]
     },
     "execution_count": 5,
     "metadata": {},
     "output_type": "execute_result"
    }
   ],
   "source": [
    "# Proof of all Thingy acitivy code are the same as all Respect activity code\n",
    "not_same = dataframe['T_activity_code'] != dataframe['R_activity_code']\n",
    "np.where(not_same)"
   ]
  },
  {
   "cell_type": "code",
   "execution_count": 6,
   "id": "6fc61659",
   "metadata": {},
   "outputs": [],
   "source": [
    "def create_dataset(dataframe, data_columns, label_column, time_steps=1, step=1):\n",
    "    XX, YY = [], []\n",
    "    raw_x = dataframe[data_columns]\n",
    "    raw_y = dataframe[label_column]\n",
    "    \n",
    "    for i in range(0, len(raw_x) - time_steps, step):\n",
    "        label = raw_y.iloc[i].values\n",
    "        value = raw_x.iloc[i]\n",
    "        same = True\n",
    "        for j in range(i + 1, i + time_steps):\n",
    "            if label != raw_y.iloc[j].values:\n",
    "                same = False\n",
    "                break\n",
    "        if not same:\n",
    "            continue\n",
    "        else:\n",
    "            value = raw_x.iloc[i: i + time_steps]\n",
    "        XX.append(value)\n",
    "        YY.append(label)\n",
    "        \n",
    "    X = np.array(XX)\n",
    "    Y = np.array(YY)\n",
    "    return X, Y\n",
    "\n",
    "Thingy_columns = ['T_accel_x', 'T_accel_y', 'T_accel_z', 'T_gyro_x', 'T_gyro_y', 'T_gyro_z', 'mag_x', 'mag_y', 'mag_z']\n",
    "Thingy_label = ['T_activity_code']\n",
    "Respect_columns = ['R_accel_x', 'R_accel_y', 'R_accel_z', 'R_gyro_x', 'R_gyro_y', 'R_gyro_z']\n",
    "Respect_label = ['R_activity_code']"
   ]
  },
  {
   "cell_type": "code",
   "execution_count": null,
   "id": "3bc1c180",
   "metadata": {},
   "outputs": [],
   "source": [
    "# Thingy data only\n",
    "X_Thingy, y_Thingy = create_dataset(dataframe, Thingy_columns, Thingy_label, 50, 10)\n",
    "X_train_Thingy, X_test_Thingy, y_train_Thingy, y_test_Thingy = train_test_split(X_Thingy, y_Thingy, random_state=111)\n",
    "\n",
    "encoder = OneHotEncoder(handle_unknown='ignore', sparse=False)\n",
    "encoder = encoder.fit(y_train_Thingy)\n",
    "y_train_Thingy = encoder.transform(y_train_Thingy)\n",
    "y_test_Thingy  = encoder.transform(y_test_Thingy)\n",
    "print(X_train_Thingy.shape, X_test_Thingy.shape, y_train_Thingy.shape, y_test_Thingy.shape)"
   ]
  },
  {
   "cell_type": "code",
   "execution_count": 11,
   "id": "0bd4ad47",
   "metadata": {},
   "outputs": [
    {
     "name": "stdout",
     "output_type": "stream",
     "text": [
      "(12864, 50, 6) (4289, 50, 6) (12864, 13) (4289, 13)\n"
     ]
    }
   ],
   "source": [
    "# Respect data only\n",
    "X_Respect, y_Respect = create_dataset(dataframe, Respect_columns, Respect_label, 50, 10)\n",
    "X_train_Respect, X_test_Respect, y_train_Respect, y_test_Respect = train_test_split(X_Respect, y_Respect, random_state=111)\n",
    "\n",
    "encoder = OneHotEncoder(handle_unknown='ignore', sparse=False)\n",
    "encoder = encoder.fit(y_train_Respect)\n",
    "y_train_Respect = encoder.transform(y_train_Respect)\n",
    "y_test_Respect  = encoder.transform(y_test_Respect)\n",
    "print(X_train_Respect.shape, X_test_Respect.shape, y_train_Respect.shape, y_test_Respect.shape)"
   ]
  },
  {
   "cell_type": "code",
   "execution_count": 36,
   "id": "f4046749",
   "metadata": {},
   "outputs": [],
   "source": [
    "# All data\n",
    "X, y = create_dataset(dataframe, Thingy_columns + Respect_columns, Thingy_label, 50, 10)\n",
    "X_train, X_test, pre_y_train, pre_y_test = train_test_split(X, y, random_state=111)"
   ]
  },
  {
   "cell_type": "code",
   "execution_count": 50,
   "id": "50e69a20",
   "metadata": {},
   "outputs": [
    {
     "name": "stdout",
     "output_type": "stream",
     "text": [
      "(12864, 50, 15) (4289, 50, 15) (12864, 13) (4289, 13)\n"
     ]
    }
   ],
   "source": [
    "encoder = OneHotEncoder(handle_unknown='ignore', sparse=False)\n",
    "encoder = encoder.fit(pre_y_train)\n",
    "y_train = encoder.transform(pre_y_train)\n",
    "y_test  = encoder.transform(pre_y_test)\n",
    "print(X_train.shape, X_test.shape, y_train.shape, y_test.shape)"
   ]
  },
  {
   "cell_type": "code",
   "execution_count": 51,
   "id": "0bfbeb4c",
   "metadata": {},
   "outputs": [
    {
     "data": {
      "text/plain": [
       "[array([  0.,   1.,   2.,   4.,   5.,   6.,   7.,   8.,  11.,  12.,  13.,\n",
       "         31., 100.])]"
      ]
     },
     "execution_count": 51,
     "metadata": {},
     "output_type": "execute_result"
    }
   ],
   "source": [
    "encoder.categories_"
   ]
  },
  {
   "cell_type": "code",
   "execution_count": 9,
   "id": "02c3e52f",
   "metadata": {
    "scrolled": true
   },
   "outputs": [
    {
     "name": "stdout",
     "output_type": "stream",
     "text": [
      "Epoch 1/30\n",
      "402/402 [==============================] - 3s 5ms/step - loss: 2.2943 - accuracy: 0.4013\n",
      "Epoch 2/30\n",
      "402/402 [==============================] - 2s 5ms/step - loss: 0.5407 - accuracy: 0.7901\n",
      "Epoch 3/30\n",
      "402/402 [==============================] - 2s 4ms/step - loss: 0.2975 - accuracy: 0.8886\n",
      "Epoch 4/30\n",
      "402/402 [==============================] - 2s 4ms/step - loss: 0.1899 - accuracy: 0.9301\n",
      "Epoch 5/30\n",
      "402/402 [==============================] - 2s 4ms/step - loss: 0.1377 - accuracy: 0.9495\n",
      "Epoch 6/30\n",
      "402/402 [==============================] - 2s 4ms/step - loss: 0.1151 - accuracy: 0.9593\n",
      "Epoch 7/30\n",
      "402/402 [==============================] - 2s 4ms/step - loss: 0.0793 - accuracy: 0.9719\n",
      "Epoch 8/30\n",
      "402/402 [==============================] - 2s 4ms/step - loss: 0.0837 - accuracy: 0.9729\n",
      "Epoch 9/30\n",
      "402/402 [==============================] - 2s 4ms/step - loss: 0.1007 - accuracy: 0.9713\n",
      "Epoch 10/30\n",
      "402/402 [==============================] - 2s 4ms/step - loss: 0.0626 - accuracy: 0.9800\n",
      "Epoch 11/30\n",
      "402/402 [==============================] - 2s 4ms/step - loss: 0.0425 - accuracy: 0.9872\n",
      "Epoch 12/30\n",
      "402/402 [==============================] - 2s 5ms/step - loss: 0.0767 - accuracy: 0.9815\n",
      "Epoch 13/30\n",
      "402/402 [==============================] - 2s 5ms/step - loss: 0.0433 - accuracy: 0.9859\n",
      "Epoch 14/30\n",
      "402/402 [==============================] - 2s 4ms/step - loss: 0.0408 - accuracy: 0.9883\n",
      "Epoch 15/30\n",
      "402/402 [==============================] - 2s 4ms/step - loss: 0.0399 - accuracy: 0.9890\n",
      "Epoch 16/30\n",
      "402/402 [==============================] - 2s 5ms/step - loss: 0.0500 - accuracy: 0.9850\n",
      "Epoch 17/30\n",
      "402/402 [==============================] - 2s 5ms/step - loss: 0.0681 - accuracy: 0.9833\n",
      "Epoch 18/30\n",
      "402/402 [==============================] - 2s 5ms/step - loss: 0.0678 - accuracy: 0.9843\n",
      "Epoch 19/30\n",
      "402/402 [==============================] - 2s 5ms/step - loss: 0.0387 - accuracy: 0.9900\n",
      "Epoch 20/30\n",
      "402/402 [==============================] - 2s 4ms/step - loss: 0.0293 - accuracy: 0.9930\n",
      "Epoch 21/30\n",
      "402/402 [==============================] - 2s 5ms/step - loss: 0.0409 - accuracy: 0.9883\n",
      "Epoch 22/30\n",
      "402/402 [==============================] - 2s 5ms/step - loss: 0.0345 - accuracy: 0.9893\n",
      "Epoch 23/30\n",
      "402/402 [==============================] - 2s 5ms/step - loss: 0.0223 - accuracy: 0.9937\n",
      "Epoch 24/30\n",
      "402/402 [==============================] - 2s 4ms/step - loss: 0.0582 - accuracy: 0.9892\n",
      "Epoch 25/30\n",
      "402/402 [==============================] - 2s 4ms/step - loss: 0.0445 - accuracy: 0.9883\n",
      "Epoch 26/30\n",
      "402/402 [==============================] - 2s 5ms/step - loss: 0.0658 - accuracy: 0.9883\n",
      "Epoch 27/30\n",
      "402/402 [==============================] - 2s 5ms/step - loss: 0.0353 - accuracy: 0.9921\n",
      "Epoch 28/30\n",
      "402/402 [==============================] - 2s 5ms/step - loss: 0.0314 - accuracy: 0.9928\n",
      "Epoch 29/30\n",
      "402/402 [==============================] - 2s 5ms/step - loss: 0.0348 - accuracy: 0.9909\n",
      "Epoch 30/30\n",
      "402/402 [==============================] - 2s 4ms/step - loss: 0.0437 - accuracy: 0.9908\n"
     ]
    }
   ],
   "source": [
    "def create_model(X, y):\n",
    "    n_timesteps, n_features, n_outputs = X.shape[1], X.shape[2], y.shape[1]\n",
    "    model = tf.keras.Sequential()\n",
    "    model.add(tf.keras.layers.Conv1D(filters=64, kernel_size=3, activation='relu', input_shape=(n_timesteps,n_features)))\n",
    "    model.add(tf.keras.layers.Conv1D(filters=64, kernel_size=3, activation='relu'))\n",
    "    model.add(tf.keras.layers.Dropout(0.5))\n",
    "    model.add(tf.keras.layers.MaxPooling1D(pool_size=2))\n",
    "    model.add(tf.keras.layers.Flatten())\n",
    "    model.add(tf.keras.layers.Dense(100, activation='relu'))\n",
    "    model.add(tf.keras.layers.Dense(n_outputs, activation='softmax'))\n",
    "    model.compile(loss='categorical_crossentropy', optimizer='adam', metrics=['accuracy'])\n",
    "    # train model\n",
    "    model.fit(X, y, epochs=30, batch_size=32, verbose=1)\n",
    "    return model\n",
    "\n",
    "all_model = create_model(X_train, y_train)"
   ]
  },
  {
   "cell_type": "code",
   "execution_count": 12,
   "id": "5e6477a5",
   "metadata": {},
   "outputs": [
    {
     "name": "stdout",
     "output_type": "stream",
     "text": [
      "Epoch 1/30\n",
      "402/402 [==============================] - 8s 17ms/step - loss: 1.1314 - accuracy: 0.6037\n",
      "Epoch 2/30\n",
      "402/402 [==============================] - 6s 16ms/step - loss: 0.5355 - accuracy: 0.7820\n",
      "Epoch 3/30\n",
      "402/402 [==============================] - 7s 18ms/step - loss: 0.4174 - accuracy: 0.8350\n",
      "Epoch 4/30\n",
      "402/402 [==============================] - 6s 15ms/step - loss: 0.3579 - accuracy: 0.8616\n",
      "Epoch 5/30\n",
      "402/402 [==============================] - 7s 17ms/step - loss: 0.3033 - accuracy: 0.8829\n",
      "Epoch 6/30\n",
      "402/402 [==============================] - 7s 17ms/step - loss: 0.2762 - accuracy: 0.8907\n",
      "Epoch 7/30\n",
      "402/402 [==============================] - 7s 18ms/step - loss: 0.2373 - accuracy: 0.9115\n",
      "Epoch 8/30\n",
      "402/402 [==============================] - 7s 17ms/step - loss: 0.2023 - accuracy: 0.9213\n",
      "Epoch 9/30\n",
      "402/402 [==============================] - 6s 16ms/step - loss: 0.1763 - accuracy: 0.9334\n",
      "Epoch 10/30\n",
      "402/402 [==============================] - 7s 17ms/step - loss: 0.1750 - accuracy: 0.9377\n",
      "Epoch 11/30\n",
      "402/402 [==============================] - 7s 17ms/step - loss: 0.1527 - accuracy: 0.9426\n",
      "Epoch 12/30\n",
      "402/402 [==============================] - 6s 16ms/step - loss: 0.1200 - accuracy: 0.9546\n",
      "Epoch 13/30\n",
      "402/402 [==============================] - 7s 16ms/step - loss: 0.1112 - accuracy: 0.9604\n",
      "Epoch 14/30\n",
      "402/402 [==============================] - 6s 15ms/step - loss: 0.1030 - accuracy: 0.9631\n",
      "Epoch 15/30\n",
      "402/402 [==============================] - 7s 17ms/step - loss: 0.1021 - accuracy: 0.9632\n",
      "Epoch 16/30\n",
      "402/402 [==============================] - 6s 15ms/step - loss: 0.0963 - accuracy: 0.9681\n",
      "Epoch 17/30\n",
      "402/402 [==============================] - 7s 16ms/step - loss: 0.0722 - accuracy: 0.9737\n",
      "Epoch 18/30\n",
      "402/402 [==============================] - 6s 15ms/step - loss: 0.0687 - accuracy: 0.9755\n",
      "Epoch 19/30\n",
      "402/402 [==============================] - 7s 17ms/step - loss: 0.0740 - accuracy: 0.9763\n",
      "Epoch 20/30\n",
      "402/402 [==============================] - 7s 17ms/step - loss: 0.0658 - accuracy: 0.9773\n",
      "Epoch 21/30\n",
      "402/402 [==============================] - 6s 16ms/step - loss: 0.0554 - accuracy: 0.9813\n",
      "Epoch 22/30\n",
      "402/402 [==============================] - 6s 15ms/step - loss: 0.0841 - accuracy: 0.9758\n",
      "Epoch 23/30\n",
      "402/402 [==============================] - 7s 17ms/step - loss: 0.0694 - accuracy: 0.9788\n",
      "Epoch 24/30\n",
      "402/402 [==============================] - 7s 18ms/step - loss: 0.0409 - accuracy: 0.9856\n",
      "Epoch 25/30\n",
      "402/402 [==============================] - 7s 17ms/step - loss: 0.0650 - accuracy: 0.9819\n",
      "Epoch 26/30\n",
      "402/402 [==============================] - 7s 17ms/step - loss: 0.0450 - accuracy: 0.9859\n",
      "Epoch 27/30\n",
      "402/402 [==============================] - 6s 15ms/step - loss: 0.0575 - accuracy: 0.9809\n",
      "Epoch 28/30\n",
      "402/402 [==============================] - 7s 18ms/step - loss: 0.0507 - accuracy: 0.9830\n",
      "Epoch 29/30\n",
      "402/402 [==============================] - 6s 15ms/step - loss: 0.0461 - accuracy: 0.9846\n",
      "Epoch 30/30\n",
      "402/402 [==============================] - 6s 16ms/step - loss: 0.0509 - accuracy: 0.9848\n",
      "Epoch 1/30\n",
      "402/402 [==============================] - 7s 15ms/step - loss: 2.6439 - accuracy: 0.2695\n",
      "Epoch 2/30\n",
      "402/402 [==============================] - 7s 17ms/step - loss: 1.1348 - accuracy: 0.5769\n",
      "Epoch 3/30\n",
      "402/402 [==============================] - 6s 15ms/step - loss: 0.8594 - accuracy: 0.6667\n",
      "Epoch 4/30\n",
      "402/402 [==============================] - 6s 14ms/step - loss: 0.6759 - accuracy: 0.7418\n",
      "Epoch 5/30\n",
      "402/402 [==============================] - 5s 13ms/step - loss: 0.5590 - accuracy: 0.7865\n",
      "Epoch 6/30\n",
      "402/402 [==============================] - 6s 15ms/step - loss: 0.4734 - accuracy: 0.8144\n",
      "Epoch 7/30\n",
      "402/402 [==============================] - 8s 19ms/step - loss: 0.3904 - accuracy: 0.8519\n",
      "Epoch 8/30\n",
      "402/402 [==============================] - 6s 16ms/step - loss: 0.3398 - accuracy: 0.8751\n",
      "Epoch 9/30\n",
      "402/402 [==============================] - 9s 22ms/step - loss: 0.2923 - accuracy: 0.8933\n",
      "Epoch 10/30\n",
      "402/402 [==============================] - 7s 17ms/step - loss: 0.2656 - accuracy: 0.9041\n",
      "Epoch 11/30\n",
      "402/402 [==============================] - 7s 17ms/step - loss: 0.2154 - accuracy: 0.9227\n",
      "Epoch 12/30\n",
      "402/402 [==============================] - 6s 15ms/step - loss: 0.1750 - accuracy: 0.9407\n",
      "Epoch 13/30\n",
      "402/402 [==============================] - 6s 15ms/step - loss: 0.1673 - accuracy: 0.9419\n",
      "Epoch 14/30\n",
      "402/402 [==============================] - 6s 14ms/step - loss: 0.1661 - accuracy: 0.9401\n",
      "Epoch 15/30\n",
      "402/402 [==============================] - 5s 13ms/step - loss: 0.1676 - accuracy: 0.9450\n",
      "Epoch 16/30\n",
      "402/402 [==============================] - 5s 14ms/step - loss: 0.1429 - accuracy: 0.9506\n",
      "Epoch 17/30\n",
      "402/402 [==============================] - 6s 14ms/step - loss: 0.1056 - accuracy: 0.9624\n",
      "Epoch 18/30\n",
      "402/402 [==============================] - 7s 18ms/step - loss: 0.1238 - accuracy: 0.9595\n",
      "Epoch 19/30\n",
      "402/402 [==============================] - 7s 16ms/step - loss: 0.1278 - accuracy: 0.9558\n",
      "Epoch 20/30\n",
      "402/402 [==============================] - 6s 15ms/step - loss: 0.1192 - accuracy: 0.9598\n",
      "Epoch 21/30\n",
      "402/402 [==============================] - 6s 16ms/step - loss: 0.0981 - accuracy: 0.9677\n",
      "Epoch 22/30\n",
      "402/402 [==============================] - 6s 14ms/step - loss: 0.1033 - accuracy: 0.9646\n",
      "Epoch 23/30\n",
      "402/402 [==============================] - 5s 12ms/step - loss: 0.1019 - accuracy: 0.9659\n",
      "Epoch 24/30\n",
      "402/402 [==============================] - 5s 13ms/step - loss: 0.1168 - accuracy: 0.9657\n",
      "Epoch 25/30\n",
      "402/402 [==============================] - 6s 14ms/step - loss: 0.0652 - accuracy: 0.9766\n",
      "Epoch 26/30\n",
      "402/402 [==============================] - 5s 13ms/step - loss: 0.0680 - accuracy: 0.9763\n",
      "Epoch 27/30\n",
      "402/402 [==============================] - 5s 13ms/step - loss: 0.0674 - accuracy: 0.9768\n",
      "Epoch 28/30\n",
      "402/402 [==============================] - 6s 15ms/step - loss: 0.1071 - accuracy: 0.9695\n",
      "Epoch 29/30\n",
      "402/402 [==============================] - 7s 18ms/step - loss: 0.0803 - accuracy: 0.9764\n",
      "Epoch 30/30\n",
      "402/402 [==============================] - 9s 22ms/step - loss: 0.0865 - accuracy: 0.9731\n"
     ]
    }
   ],
   "source": [
    "respeck_model = create_model(X_train_Respect, y_train_Respect)\n",
    "thingy_model = create_model(X_train_Thingy, y_train_Thingy)"
   ]
  },
  {
   "cell_type": "code",
   "execution_count": 10,
   "id": "315724fe",
   "metadata": {},
   "outputs": [
    {
     "name": "stdout",
     "output_type": "stream",
     "text": [
      "test loss, test acc: [0.020590409636497498, 0.9958032369613647]\n"
     ]
    }
   ],
   "source": [
    "all_results = all_model.evaluate(X_test, y_test, batch_size=32, verbose=0)\n",
    "print(\"test loss, test acc:\", all_results)"
   ]
  },
  {
   "cell_type": "code",
   "execution_count": null,
   "id": "ea2b5934",
   "metadata": {},
   "outputs": [],
   "source": [
    "respeck_results = respeck_model.evaluate(X_test_Respect, y_test_Respect, batch_size=32, verbose=0)\n",
    "print(\"test loss, test acc:\", respeck_results)\n",
    "\n",
    "thingy_results = thingy_model.evaluate(X_test_Thingy, y_test_Thingy, batch_size=32, verbose=0)\n",
    "print(\"test loss, test acc:\", thingy_results)"
   ]
  },
  {
   "cell_type": "code",
   "execution_count": 21,
   "id": "e43a9654",
   "metadata": {},
   "outputs": [
    {
     "name": "stdout",
     "output_type": "stream",
     "text": [
      "135/135 [==============================] - 0s 4ms/step\n",
      "(4289, 13)\n"
     ]
    }
   ],
   "source": [
    "predy = all_model.predict(X_test)\n",
    "print(predy.shape)"
   ]
  },
  {
   "cell_type": "code",
   "execution_count": 13,
   "id": "3d905663",
   "metadata": {
    "scrolled": true
   },
   "outputs": [
    {
     "data": {
      "image/png": "[encoded data removed]",
      "text/plain": [
       "<Figure size 1200x1000 with 2 Axes>"
      ]
     },
     "metadata": {},
     "output_type": "display_data"
    }
   ],
   "source": [
    "def plot_cm(y_true, y_pred, class_names):\n",
    "    cm = confusion_matrix(y_true, y_pred, normalize='true')\n",
    "    fig, ax = plt.subplots(figsize=(12, 10)) \n",
    "    ax = sns.heatmap(\n",
    "        cm, \n",
    "        annot=True, \n",
    "        fmt=\".2f\", \n",
    "        cmap=sns.diverging_palette(220, 20, n=7),\n",
    "        ax=ax\n",
    "    )\n",
    "\n",
    "    plt.xticks(rotation=70)\n",
    "    plt.yticks(rotation=90)\n",
    "    plt.ylabel('Actual')\n",
    "    plt.xlabel('Predicted')\n",
    "    ax.set_xticklabels(class_names)\n",
    "    ax.set_yticklabels(class_names, rotation=0)\n",
    "    b, t = plt.ylim() # discover the values for bottom and top\n",
    "    b += 0.5 # Add 0.5 to the bottom\n",
    "    t -= 0.5 # Subtract 0.5 from the top\n",
    "    plt.ylim(b, t) # update the ylim(bottom, top) values\n",
    "    plt.show() # ta-da!\n",
    "\n",
    "register_matplotlib_converters()\n",
    "sns.set(style='whitegrid', palette='muted', font_scale=1)\n",
    "\n",
    "rcParams['figure.figsize'] = 22, 10\n",
    "\n",
    "plot_cm(\n",
    "    encoder.inverse_transform(y_test),\n",
    "    encoder.inverse_transform(predy),\n",
    "    encoder.categories_[0]\n",
    ") "
   ]
  },
  {
   "cell_type": "code",
   "execution_count": 9,
   "id": "2aadc06d",
   "metadata": {},
   "outputs": [
    {
     "name": "stderr",
     "output_type": "stream",
     "text": [
      "WARNING:absl:Found untraced functions such as _jit_compiled_convolution_op, _jit_compiled_convolution_op while saving (showing 2 of 2). These functions will not be directly callable after loading.\n"
     ]
    },
    {
     "name": "stdout",
     "output_type": "stream",
     "text": [
      "INFO:tensorflow:Assets written to: C:\\Users\\minsu\\AppData\\Local\\Temp\\tmpa1g7a5xs\\assets\n"
     ]
    },
    {
     "name": "stderr",
     "output_type": "stream",
     "text": [
      "INFO:tensorflow:Assets written to: C:\\Users\\minsu\\AppData\\Local\\Temp\\tmpa1g7a5xs\\assets\n"
     ]
    }
   ],
   "source": [
    "# all model\n",
    "all_converter = tf.lite.TFLiteConverter.from_keras_model(all_model)\n",
    "tflite_all_model = all_converter.convert()\n",
    "\n",
    "with open('all_model.tflite', 'wb') as f:\n",
    "  f.write(tflite_all_model)"
   ]
  },
  {
   "cell_type": "code",
   "execution_count": 13,
   "id": "20b77a04",
   "metadata": {},
   "outputs": [
    {
     "name": "stderr",
     "output_type": "stream",
     "text": [
      "WARNING:absl:Found untraced functions such as _jit_compiled_convolution_op, _jit_compiled_convolution_op while saving (showing 2 of 2). These functions will not be directly callable after loading.\n"
     ]
    },
    {
     "name": "stdout",
     "output_type": "stream",
     "text": [
      "INFO:tensorflow:Assets written to: C:\\Users\\minsu\\AppData\\Local\\Temp\\tmpwbk_h6tb\\assets\n"
     ]
    },
    {
     "name": "stderr",
     "output_type": "stream",
     "text": [
      "INFO:tensorflow:Assets written to: C:\\Users\\minsu\\AppData\\Local\\Temp\\tmpwbk_h6tb\\assets\n"
     ]
    }
   ],
   "source": [
    "# respeck model\n",
    "respeck_converter = tf.lite.TFLiteConverter.from_keras_model(respeck_model)\n",
    "tflite_respeck_model = respeck_converter.convert()\n",
    "\n",
    "with open('respeck_model.tflite', 'wb') as f:\n",
    "  f.write(tflite_respeck_model)"
   ]
  },
  {
   "cell_type": "code",
   "execution_count": 14,
   "id": "ca4e3e88",
   "metadata": {},
   "outputs": [
    {
     "name": "stderr",
     "output_type": "stream",
     "text": [
      "WARNING:absl:Found untraced functions such as _jit_compiled_convolution_op, _jit_compiled_convolution_op while saving (showing 2 of 2). These functions will not be directly callable after loading.\n"
     ]
    },
    {
     "name": "stdout",
     "output_type": "stream",
     "text": [
      "INFO:tensorflow:Assets written to: C:\\Users\\minsu\\AppData\\Local\\Temp\\tmpnq67sp1n\\assets\n"
     ]
    },
    {
     "name": "stderr",
     "output_type": "stream",
     "text": [
      "INFO:tensorflow:Assets written to: C:\\Users\\minsu\\AppData\\Local\\Temp\\tmpnq67sp1n\\assets\n"
     ]
    }
   ],
   "source": [
    "# thingy model\n",
    "thingy_converter = tf.lite.TFLiteConverter.from_keras_model(thingy_model)\n",
    "tflite_thingy_model = thingy_converter.convert()\n",
    "\n",
    "with open('thingy_model.tflite', 'wb') as f:\n",
    "  f.write(tflite_thingy_model)"
   ]
  }
 ],
 "metadata": {
  "kernelspec": {
   "display_name": "Python 3 (ipykernel)",
   "language": "python",
   "name": "python3"
  },
  "language_info": {
   "codemirror_mode": {
    "name": "ipython",
    "version": 3
   },
   "file_extension": ".py",
   "mimetype": "text/x-python",
   "name": "python",
   "nbconvert_exporter": "python",
   "pygments_lexer": "ipython3",
   "version": "3.7.13"
  }
 },
 "nbformat": 4,
 "nbformat_minor": 5
}
