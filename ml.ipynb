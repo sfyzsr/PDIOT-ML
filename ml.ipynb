{
 "cells": [
  {
   "cell_type": "code",
   "execution_count": 278,
   "metadata": {},
   "outputs": [],
   "source": [
    "# TensorFlow and tf.keras\n",
    "import tensorflow as tf\n",
    "from tensorflow import keras\n",
    "# Helper libraries\n",
    "import numpy as np\n",
    "import matplotlib.pyplot as plt\n",
    "import random\n",
    "import pandas as pd\n",
    "\n",
    "from scipy import stats\n",
    "from sklearn.preprocessing import OneHotEncoder\n",
    "\n",
    "from sklearn.metrics import confusion_matrix\n",
    "import seaborn as sns\n",
    "from pandas.plotting import register_matplotlib_converters\n",
    "from pylab import rcParams"
   ]
  },
  {
   "cell_type": "code",
   "execution_count": 294,
   "metadata": {},
   "outputs": [
    {
     "data": {
      "text/html": [
       "<div>\n",
       "<style scoped>\n",
       "    .dataframe tbody tr th:only-of-type {\n",
       "        vertical-align: middle;\n",
       "    }\n",
       "\n",
       "    .dataframe tbody tr th {\n",
       "        vertical-align: top;\n",
       "    }\n",
       "\n",
       "    .dataframe thead th {\n",
       "        text-align: right;\n",
       "    }\n",
       "</style>\n",
       "<table border=\"1\" class=\"dataframe\">\n",
       "  <thead>\n",
       "    <tr style=\"text-align: right;\">\n",
       "      <th></th>\n",
       "      <th>activity_type</th>\n",
       "      <th>activity_code</th>\n",
       "    </tr>\n",
       "  </thead>\n",
       "  <tbody>\n",
       "    <tr>\n",
       "      <th>0</th>\n",
       "      <td>Climbing stairs</td>\n",
       "      <td>12</td>\n",
       "    </tr>\n",
       "    <tr>\n",
       "      <th>751</th>\n",
       "      <td>Descending stairs</td>\n",
       "      <td>13</td>\n",
       "    </tr>\n",
       "    <tr>\n",
       "      <th>1502</th>\n",
       "      <td>Desk work</td>\n",
       "      <td>31</td>\n",
       "    </tr>\n",
       "    <tr>\n",
       "      <th>2252</th>\n",
       "      <td>Lying down left</td>\n",
       "      <td>7</td>\n",
       "    </tr>\n",
       "    <tr>\n",
       "      <th>3003</th>\n",
       "      <td>Lying down on back</td>\n",
       "      <td>2</td>\n",
       "    </tr>\n",
       "    <tr>\n",
       "      <th>3763</th>\n",
       "      <td>Lying down on stomach</td>\n",
       "      <td>8</td>\n",
       "    </tr>\n",
       "    <tr>\n",
       "      <th>4513</th>\n",
       "      <td>Lying down right</td>\n",
       "      <td>6</td>\n",
       "    </tr>\n",
       "    <tr>\n",
       "      <th>5263</th>\n",
       "      <td>Movement</td>\n",
       "      <td>9</td>\n",
       "    </tr>\n",
       "    <tr>\n",
       "      <th>6013</th>\n",
       "      <td>Running</td>\n",
       "      <td>11</td>\n",
       "    </tr>\n",
       "    <tr>\n",
       "      <th>6763</th>\n",
       "      <td>Sitting bent backward</td>\n",
       "      <td>5</td>\n",
       "    </tr>\n",
       "    <tr>\n",
       "      <th>7513</th>\n",
       "      <td>Sitting bent forward</td>\n",
       "      <td>4</td>\n",
       "    </tr>\n",
       "    <tr>\n",
       "      <th>8263</th>\n",
       "      <td>Sitting</td>\n",
       "      <td>0</td>\n",
       "    </tr>\n",
       "    <tr>\n",
       "      <th>9013</th>\n",
       "      <td>Standing</td>\n",
       "      <td>100</td>\n",
       "    </tr>\n",
       "    <tr>\n",
       "      <th>9763</th>\n",
       "      <td>Walking at normal speed</td>\n",
       "      <td>1</td>\n",
       "    </tr>\n",
       "    <tr>\n",
       "      <th>467316</th>\n",
       "      <td>Standing</td>\n",
       "      <td>0</td>\n",
       "    </tr>\n",
       "    <tr>\n",
       "      <th>549408</th>\n",
       "      <td>Movement</td>\n",
       "      <td>31</td>\n",
       "    </tr>\n",
       "    <tr>\n",
       "      <th>826644</th>\n",
       "      <td>Lying down right</td>\n",
       "      <td>7</td>\n",
       "    </tr>\n",
       "  </tbody>\n",
       "</table>\n",
       "</div>"
      ],
      "text/plain": [
       "                  activity_type  activity_code\n",
       "0               Climbing stairs             12\n",
       "751           Descending stairs             13\n",
       "1502                  Desk work             31\n",
       "2252            Lying down left              7\n",
       "3003         Lying down on back              2\n",
       "3763      Lying down on stomach              8\n",
       "4513           Lying down right              6\n",
       "5263                   Movement              9\n",
       "6013                    Running             11\n",
       "6763      Sitting bent backward              5\n",
       "7513       Sitting bent forward              4\n",
       "8263                    Sitting              0\n",
       "9013                   Standing            100\n",
       "9763    Walking at normal speed              1\n",
       "467316                 Standing              0\n",
       "549408                 Movement             31\n",
       "826644         Lying down right              7"
      ]
     },
     "execution_count": 294,
     "metadata": {},
     "output_type": "execute_result"
    }
   ],
   "source": [
    "respeck = pd.read_feather(\"respeck.feather\")\n",
    "respeck.loc[:,['activity_type','activity_code']].drop_duplicates()\n",
    "# respeck.iloc[235036:235039,:]"
   ]
  },
  {
   "cell_type": "code",
   "execution_count": 280,
   "metadata": {},
   "outputs": [
    {
     "data": {
      "text/html": [
       "<div>\n",
       "<style scoped>\n",
       "    .dataframe tbody tr th:only-of-type {\n",
       "        vertical-align: middle;\n",
       "    }\n",
       "\n",
       "    .dataframe tbody tr th {\n",
       "        vertical-align: top;\n",
       "    }\n",
       "\n",
       "    .dataframe thead th {\n",
       "        text-align: right;\n",
       "    }\n",
       "</style>\n",
       "<table border=\"1\" class=\"dataframe\">\n",
       "  <thead>\n",
       "    <tr style=\"text-align: right;\">\n",
       "      <th></th>\n",
       "      <th>accel_x</th>\n",
       "      <th>accel_y</th>\n",
       "      <th>accel_z</th>\n",
       "      <th>gyro_x</th>\n",
       "      <th>gyro_y</th>\n",
       "      <th>gyro_z</th>\n",
       "      <th>activity_code</th>\n",
       "    </tr>\n",
       "  </thead>\n",
       "  <tbody>\n",
       "    <tr>\n",
       "      <th>0</th>\n",
       "      <td>0.125977</td>\n",
       "      <td>-1.205872</td>\n",
       "      <td>0.143982</td>\n",
       "      <td>16.12500</td>\n",
       "      <td>6.1875</td>\n",
       "      <td>9.515625</td>\n",
       "      <td>12</td>\n",
       "    </tr>\n",
       "    <tr>\n",
       "      <th>1</th>\n",
       "      <td>0.104004</td>\n",
       "      <td>-0.896057</td>\n",
       "      <td>0.059509</td>\n",
       "      <td>15.46875</td>\n",
       "      <td>6.8125</td>\n",
       "      <td>18.062500</td>\n",
       "      <td>12</td>\n",
       "    </tr>\n",
       "  </tbody>\n",
       "</table>\n",
       "</div>"
      ],
      "text/plain": [
       "    accel_x   accel_y   accel_z    gyro_x  gyro_y     gyro_z  activity_code\n",
       "0  0.125977 -1.205872  0.143982  16.12500  6.1875   9.515625             12\n",
       "1  0.104004 -0.896057  0.059509  15.46875  6.8125  18.062500             12"
      ]
     },
     "execution_count": 280,
     "metadata": {},
     "output_type": "execute_result"
    }
   ],
   "source": [
    "\n",
    "respeck.drop(columns=['timestamp','activity_type','subject_id'], axis=1, inplace=True)\n",
    "respeck.head(2)"
   ]
  },
  {
   "cell_type": "code",
   "execution_count": 281,
   "metadata": {},
   "outputs": [
    {
     "data": {
      "text/plain": [
       "(array([], dtype=int64), array([], dtype=int64))"
      ]
     },
     "execution_count": 281,
     "metadata": {},
     "output_type": "execute_result"
    }
   ],
   "source": [
    "respeck = respeck.drop(235036)\n",
    "respeck.isnull().values.any()\n",
    "np.where(pd.isnull(respeck))"
   ]
  },
  {
   "cell_type": "code",
   "execution_count": 282,
   "metadata": {},
   "outputs": [],
   "source": [
    "\n",
    "split = len(respeck)/10*7\n",
    "train_respeck = respeck.loc[0:split-1,:]\n",
    "test_respeck = respeck.loc[split:,:]\n",
    "# print(train_respeck.loc[:,'activity_code'].drop_duplicates())\n",
    "# print(test_respeck.loc[:,'activity_code'].drop_duplicates())"
   ]
  },
  {
   "cell_type": "code",
   "execution_count": 283,
   "metadata": {},
   "outputs": [],
   "source": [
    "enc = OneHotEncoder(handle_unknown='ignore', sparse=False)\n",
    "from collections import OrderedDict\n",
    "def create_dataset(r, time_steps, step,train=True):\n",
    "    global enc\n",
    "    x_list, y_list = [], []\n",
    "    # print(r.tail())\n",
    "    for i in range(0, len(r) - time_steps, step):\n",
    "        if(i>1):\n",
    "            if(r.iloc[i,6]!=r.iloc[i-1,6]):\n",
    "                # print(r.iloc[i,6])\n",
    "                # print(r.iloc[i-1,6])\n",
    "                continue\n",
    "        v = r.iloc[i:(i + time_steps)]\n",
    "        labels = v.pop('activity_code')\n",
    "        \n",
    "        x_list.append(v.values)\n",
    "        y_list.append(stats.mode(labels)[0][0])\n",
    "        # temp = r.iloc[i,6]\n",
    "\n",
    "    print(list(OrderedDict.fromkeys(y_list)))\n",
    "    x_train = np.array(x_list)\n",
    "    y_train = np.array(y_list).reshape(-1, 1)\n",
    "    x_train.shape\n",
    "\n",
    "    if(train):\n",
    "        enc = enc.fit(y_train)    # Call 'fit' with appropriate arguments before using this estimator.\n",
    "    y_train = enc.transform(y_train)\n",
    "    return (x_train,y_train)\n",
    "\n",
    "def create_model(trainX, trainy):\n",
    "    n_timesteps, n_features, n_outputs = trainX.shape[1], trainX.shape[2], trainy.shape[1]\n",
    "    model = tf.keras.Sequential()\n",
    "    model.add(tf.keras.layers.Conv1D(filters=256, kernel_size=3, activation='relu', input_shape=(n_timesteps,n_features)))\n",
    "    model.add(tf.keras.layers.Conv1D(filters=128, kernel_size=3, activation='relu'))\n",
    "    model.add(tf.keras.layers.Conv1D(filters=64, kernel_size=3, activation='relu'))\n",
    "    model.add(tf.keras.layers.Dropout(0.5))\n",
    "    model.add(tf.keras.layers.MaxPooling1D(pool_size=2))\n",
    "    model.add(tf.keras.layers.Flatten())\n",
    "    model.add(tf.keras.layers.Dense(100, activation='relu'))\n",
    "    model.add(tf.keras.layers.Dense(n_outputs, activation='softmax'))\n",
    "    model.compile(loss='categorical_crossentropy', optimizer='adam', metrics=['accuracy'])\n",
    "\n",
    "    # evaluate model\n",
    "    return model"
   ]
  },
  {
   "cell_type": "code",
   "execution_count": 284,
   "metadata": {},
   "outputs": [
    {
     "name": "stdout",
     "output_type": "stream",
     "text": [
      "[12, 13, 31, 7, 2, 8, 6, 9, 11, 5, 4, 0, 100, 1]\n",
      "(58188, 50, 6)\n",
      "(58188, 14)\n"
     ]
    }
   ],
   "source": [
    "time_steps = 50\n",
    "step = 10\n",
    "\n",
    "x_train,y_train = create_dataset(train_respeck,time_steps, step)\n",
    "print(x_train.shape)\n",
    "\n",
    "print(y_train.shape)\n",
    "\n",
    "model = create_model(trainX=x_train,trainy=y_train)\n",
    "\n"
   ]
  },
  {
   "cell_type": "code",
   "execution_count": 285,
   "metadata": {},
   "outputs": [
    {
     "name": "stdout",
     "output_type": "stream",
     "text": [
      "Epoch 1/30\n",
      "1819/1819 [==============================] - 15s 8ms/step - loss: 0.7733 - accuracy: 0.7011\n",
      "Epoch 2/30\n",
      "1819/1819 [==============================] - 14s 8ms/step - loss: 0.4900 - accuracy: 0.8071\n",
      "Epoch 3/30\n",
      "1819/1819 [==============================] - 15s 8ms/step - loss: 0.3933 - accuracy: 0.8466\n",
      "Epoch 4/30\n",
      "1819/1819 [==============================] - 15s 8ms/step - loss: 0.3244 - accuracy: 0.8764\n",
      "Epoch 5/30\n",
      "1819/1819 [==============================] - 15s 8ms/step - loss: 0.2871 - accuracy: 0.8936\n",
      "Epoch 6/30\n",
      "1819/1819 [==============================] - 15s 8ms/step - loss: 0.2555 - accuracy: 0.9064\n",
      "Epoch 7/30\n",
      "1819/1819 [==============================] - 15s 8ms/step - loss: 0.2235 - accuracy: 0.9201\n",
      "Epoch 8/30\n",
      "1819/1819 [==============================] - 15s 8ms/step - loss: 0.1966 - accuracy: 0.9308\n",
      "Epoch 9/30\n",
      "1819/1819 [==============================] - 15s 8ms/step - loss: 0.1810 - accuracy: 0.9371\n",
      "Epoch 10/30\n",
      "1819/1819 [==============================] - 15s 8ms/step - loss: 0.1722 - accuracy: 0.9411\n",
      "Epoch 11/30\n",
      "1819/1819 [==============================] - 16s 9ms/step - loss: 0.1583 - accuracy: 0.9465\n",
      "Epoch 12/30\n",
      "1819/1819 [==============================] - 15s 8ms/step - loss: 0.1504 - accuracy: 0.9510\n",
      "Epoch 13/30\n",
      "1819/1819 [==============================] - 15s 8ms/step - loss: 0.1384 - accuracy: 0.9528\n",
      "Epoch 14/30\n",
      "1819/1819 [==============================] - 15s 8ms/step - loss: 0.1358 - accuracy: 0.9564\n",
      "Epoch 15/30\n",
      "1819/1819 [==============================] - 15s 8ms/step - loss: 0.1265 - accuracy: 0.9593\n",
      "Epoch 16/30\n",
      "1819/1819 [==============================] - 15s 8ms/step - loss: 0.1277 - accuracy: 0.9597\n",
      "Epoch 17/30\n",
      "1819/1819 [==============================] - 15s 8ms/step - loss: 0.1255 - accuracy: 0.9604\n",
      "Epoch 18/30\n",
      "1819/1819 [==============================] - 15s 8ms/step - loss: 0.1161 - accuracy: 0.9639\n",
      "Epoch 19/30\n",
      "1819/1819 [==============================] - 15s 8ms/step - loss: 0.1175 - accuracy: 0.9628\n",
      "Epoch 20/30\n",
      "1819/1819 [==============================] - 15s 8ms/step - loss: 0.1240 - accuracy: 0.9621\n",
      "Epoch 21/30\n",
      "1819/1819 [==============================] - 15s 8ms/step - loss: 0.1152 - accuracy: 0.9646\n",
      "Epoch 22/30\n",
      "1819/1819 [==============================] - 15s 8ms/step - loss: 0.1062 - accuracy: 0.9667\n",
      "Epoch 23/30\n",
      "1819/1819 [==============================] - 15s 8ms/step - loss: 0.0977 - accuracy: 0.9702\n",
      "Epoch 24/30\n",
      "1819/1819 [==============================] - 15s 8ms/step - loss: 0.1177 - accuracy: 0.9667\n",
      "Epoch 25/30\n",
      "1819/1819 [==============================] - 15s 8ms/step - loss: 0.1047 - accuracy: 0.9705\n",
      "Epoch 26/30\n",
      "1819/1819 [==============================] - 15s 8ms/step - loss: 0.1186 - accuracy: 0.9666\n",
      "Epoch 27/30\n",
      "1819/1819 [==============================] - 15s 8ms/step - loss: 0.0901 - accuracy: 0.9722\n",
      "Epoch 28/30\n",
      "1819/1819 [==============================] - 15s 8ms/step - loss: 0.1094 - accuracy: 0.9692\n",
      "Epoch 29/30\n",
      "1819/1819 [==============================] - 16s 9ms/step - loss: 0.1111 - accuracy: 0.9688\n",
      "Epoch 30/30\n",
      "1819/1819 [==============================] - 15s 8ms/step - loss: 0.1008 - accuracy: 0.9712\n"
     ]
    },
    {
     "data": {
      "text/plain": [
       "<keras.callbacks.History at 0x26809860bb0>"
      ]
     },
     "execution_count": 285,
     "metadata": {},
     "output_type": "execute_result"
    }
   ],
   "source": [
    "model.fit(x_train, y_train, epochs=30, batch_size=32, verbose=1)"
   ]
  },
  {
   "cell_type": "code",
   "execution_count": 286,
   "metadata": {},
   "outputs": [
    {
     "name": "stdout",
     "output_type": "stream",
     "text": [
      "[11, 5, 4, 0, 100, 1, 12, 13, 31, 7, 2, 8, 6, 9]\n",
      "(24940, 50, 6)\n",
      "(24940, 14)\n"
     ]
    }
   ],
   "source": [
    "# print(test_respeck.loc[:,'activity_code'].drop_duplicates())\n",
    "x_test,y_test = create_dataset(test_respeck,time_steps, step,train = False)\n",
    "print(x_test.shape)\n",
    "print(y_test.shape)\n"
   ]
  },
  {
   "cell_type": "code",
   "execution_count": 287,
   "metadata": {},
   "outputs": [
    {
     "name": "stdout",
     "output_type": "stream",
     "text": [
      "test loss, test acc: [3.215749979019165, 0.7819967865943909]\n"
     ]
    }
   ],
   "source": [
    "results = model.evaluate(x_test, y_test, batch_size=32, verbose=0)\n",
    "print(\"test loss, test acc:\", results)"
   ]
  },
  {
   "cell_type": "code",
   "execution_count": 288,
   "metadata": {},
   "outputs": [
    {
     "name": "stdout",
     "output_type": "stream",
     "text": [
      "780/780 [==============================] - 3s 3ms/step\n"
     ]
    },
    {
     "data": {
      "image/png": "[encoded data removed]",
      "text/plain": [
       "<Figure size 1200x1000 with 2 Axes>"
      ]
     },
     "metadata": {},
     "output_type": "display_data"
    }
   ],
   "source": [
    "predy = model.predict(x_test)\n",
    "# print(predy)\n",
    "def plot_cm(y_true, y_pred, class_names):\n",
    "    cm = confusion_matrix(y_true, y_pred, normalize='true')\n",
    "    fig, ax = plt.subplots(figsize=(12, 10)) \n",
    "    ax = sns.heatmap(\n",
    "        cm, \n",
    "        annot=True, \n",
    "        fmt=\".2f\", \n",
    "        cmap=sns.diverging_palette(220, 20, n=7),\n",
    "        ax=ax\n",
    "    )\n",
    "\n",
    "    plt.xticks(rotation=70)\n",
    "    plt.yticks(rotation=90)\n",
    "    plt.ylabel('Actual')\n",
    "    plt.xlabel('Predicted')\n",
    "    ax.set_xticklabels(class_names)\n",
    "    ax.set_yticklabels(class_names, rotation=0)\n",
    "    b, t = plt.ylim() # discover the values for bottom and top\n",
    "    b += 0.5 # Add 0.5 to the bottom\n",
    "    t -= 0.5 # Subtract 0.5 from the top\n",
    "    plt.ylim(b, t) # update the ylim(bottom, top) values\n",
    "    plt.show() # ta-da!\n",
    "\n",
    "register_matplotlib_converters()\n",
    "sns.set(style='whitegrid', palette='muted', font_scale=1)\n",
    "\n",
    "rcParams['figure.figsize'] = 22, 10\n",
    "\n",
    "plot_cm(\n",
    "    enc.inverse_transform(y_test),\n",
    "    enc.inverse_transform(predy),\n",
    "    enc.categories_[0]\n",
    ") \n",
    "# print(enc.inverse_transform(predy))\n",
    "# print(enc.inverse_transform(y_test))"
   ]
  }
 ],
 "metadata": {
  "kernelspec": {
   "display_name": "Python 3.9.1 64-bit",
   "language": "python",
   "name": "python3"
  },
  "language_info": {
   "codemirror_mode": {
    "name": "ipython",
    "version": 3
   },
   "file_extension": ".py",
   "mimetype": "text/x-python",
   "name": "python",
   "nbconvert_exporter": "python",
   "pygments_lexer": "ipython3",
   "version": "3.9.1"
  },
  "orig_nbformat": 4,
  "vscode": {
   "interpreter": {
    "hash": "81794d4967e6c3204c66dcd87b604927b115b27c00565d3d43f05ba2f3a2cb0d"
   }
  }
 },
 "nbformat": 4,
 "nbformat_minor": 2
}
